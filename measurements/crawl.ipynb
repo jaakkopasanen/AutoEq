{
 "cells": [
  {
   "cell_type": "code",
   "execution_count": null,
   "id": "91da902b-07de-4d1b-9f33-15b2a6aca9d4",
   "metadata": {},
   "outputs": [],
   "source": [
    "%load_ext autoreload\n",
    "%autoreload 2"
   ]
  },
  {
   "cell_type": "code",
   "execution_count": null,
   "id": "c57b79d9-a96a-4d12-9317-626ffdcf0130",
   "metadata": {},
   "outputs": [],
   "source": [
    "import sys\n",
    "from pathlib import Path\n",
    "ROOT_PATH = Path().resolve().parent\n",
    "if str(ROOT_PATH) not in sys.path:\n",
    "    sys.path.insert(1, str(ROOT_PATH))\n",
    "import ipywidgets as widgets\n",
    "from IPython.display import display\n",
    "from measurements.rtings.rtings_crawler import RtingsCrawler\n",
    "from measurements.crinacle.crinacle_crawler import CrinacleCrawler\n",
    "from measurements.referenceaudioanalyzer.reference_audio_analyzer_crawler import ReferenceAudioAnalyzerCrawler\n",
    "from measurements.oratory1990.oratory1990_crawler import Oratory1990Crawler\n",
    "from measurements.average import average_measurements"
   ]
  },
  {
   "cell_type": "markdown",
   "id": "a39cd4d4-bff1-4fcc-83f8-d98ce780ef54",
   "metadata": {},
   "source": [
    "## Crinacle\n",
    "Download measurement data from Drive folder to `measurements/crinacle/raw_data/FR Data (CSV)` and `measurements/crinacle/raw_data/IEM Measurements (TSV)` and run this code block"
   ]
  },
  {
   "cell_type": "code",
   "execution_count": null,
   "id": "9eee0600-5948-413b-b025-81bf1cc25a17",
   "metadata": {},
   "outputs": [],
   "source": [
    "crawler = CrinacleCrawler()\n",
    "crawler.process_new()\n",
    "display(crawler.widget)"
   ]
  },
  {
   "cell_type": "code",
   "execution_count": null,
   "id": "2f64338f-95e1-4102-b3bd-cc1c9b9b9077",
   "metadata": {},
   "outputs": [],
   "source": [
    "average_measurements(input_dir=ROOT_PATH.joinpath('measurements', 'crinacle', 'data', 'onear', 'Ears-711'))\n",
    "average_measurements(input_dir=ROOT_PATH.joinpath('measurements', 'crinacle', 'data', 'onear', 'GRAS 43AG-7'))\n",
    "average_measurements(input_dir=ROOT_PATH.joinpath('measurements', 'crinacle', 'data', 'inear'))"
   ]
  },
  {
   "cell_type": "markdown",
   "id": "6f99fd13-fb5d-44cc-a293-d09c33b6dc51",
   "metadata": {},
   "source": [
    "## Reference Audio Analyzer"
   ]
  },
  {
   "cell_type": "code",
   "execution_count": null,
   "id": "f3a56f57-44d5-45a2-9b46-237710251840",
   "metadata": {},
   "outputs": [],
   "source": [
    "crawler = ReferenceAudioAnalyzerCrawler()\n",
    "crawler.process_new()\n",
    "display(crawler.widget)"
   ]
  },
  {
   "cell_type": "markdown",
   "id": "f08f9303-7813-4ab5-895f-d75e12ad64e7",
   "metadata": {},
   "source": [
    "## Rtings"
   ]
  },
  {
   "cell_type": "code",
   "execution_count": null,
   "id": "ccfd03f8-6b5f-484f-8294-660d3606d7e0",
   "metadata": {},
   "outputs": [],
   "source": [
    "crawler = RtingsCrawler()\n",
    "crawler.process_new()\n",
    "display(crawler.widget)"
   ]
  },
  {
   "cell_type": "markdown",
   "id": "f77aeaf3-a7d7-47d5-88ed-40b21bd03a00",
   "metadata": {},
   "source": [
    "## oratory1990\n",
    "Parsing oratory1990's PDFs requires [Ghostscript](https://www.ghostscript.com/download/gsdnld.html) to be installed on the system"
   ]
  },
  {
   "cell_type": "code",
   "execution_count": null,
   "id": "a7bebbf6-eb2f-49ee-8d58-5028924064af",
   "metadata": {},
   "outputs": [],
   "source": [
    "crawler = Oratory1990Crawler()\n",
    "crawler.process_new()\n",
    "display(crawler.widget)"
   ]
  },
  {
   "cell_type": "markdown",
   "id": "752cabf9-a846-491e-8c8e-72aeb268cad1",
   "metadata": {},
   "source": []
  }
 ],
 "metadata": {
  "kernelspec": {
   "display_name": "autoeq",
   "language": "python",
   "name": "autoeq"
  },
  "language_info": {
   "codemirror_mode": {
    "name": "ipython",
    "version": 3
   },
   "file_extension": ".py",
   "mimetype": "text/x-python",
   "name": "python",
   "nbconvert_exporter": "python",
   "pygments_lexer": "ipython3",
   "version": "3.8.6"
  }
 },
 "nbformat": 4,
 "nbformat_minor": 5
}
