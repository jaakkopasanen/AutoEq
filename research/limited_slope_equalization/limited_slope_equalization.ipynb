{
 "cells": [
  {
   "cell_type": "code",
   "execution_count": null,
   "metadata": {},
   "outputs": [],
   "source": [
    "%load_ext autoreload\n",
    "%autoreload 2"
   ]
  },
  {
   "cell_type": "code",
   "execution_count": null,
   "metadata": {},
   "outputs": [],
   "source": [
    "import os\n",
    "import sys\n",
    "from pathlib import Path\n",
    "ROOT_PATH = Path().resolve().parent.parent\n",
    "DIR_PATH = Path().resolve()\n",
    "if str(ROOT_PATH) not in sys.path:\n",
    "    sys.path.insert(1, str(ROOT_PATH))"
   ]
  },
  {
   "cell_type": "code",
   "execution_count": null,
   "metadata": {},
   "outputs": [],
   "source": [
    "from glob import glob\n",
    "import numpy as np\n",
    "import scipy\n",
    "import matplotlib.pyplot as plt\n",
    "import PyPDF2\n",
    "import soundfile as sf\n",
    "from biquad import digital_coeffs, peaking\n",
    "from research.limited_slope_smoothing.frequency_response_limited import FrequencyResponseLimited"
   ]
  },
  {
   "cell_type": "markdown",
   "metadata": {},
   "source": [
    "## Frequency Response Creation Utils"
   ]
  },
  {
   "cell_type": "code",
   "execution_count": null,
   "metadata": {},
   "outputs": [],
   "source": [
    "onear_target = ROOT_PATH.joinpath('compensation/harman_over-ear_2018.csv')\n",
    "inear_target = ROOT_PATH.joinpath('compensation/harman_in-ear_2019v2.csv')\n",
    "rtings_onear_target = ROOT_PATH.joinpath('measurements/rtings/resources/rtings_harman_over-ear_2018.csv')\n",
    "rtings_inear_target = ROOT_PATH.joinpath('measurements/rtings/resources/rtings_harman_in-ear_2019v2.csv')"
   ]
  },
  {
   "cell_type": "code",
   "execution_count": null,
   "metadata": {},
   "outputs": [],
   "source": [
    "def iir_fr(fc, Q, gain):\n",
    "    fs = 48000\n",
    "    fr = FrequencyResponseLimited(name='peaking')\n",
    "    fr.raw = np.zeros(fr.frequency.shape)\n",
    "    for __fc, __Q, __gain in zip(fc, Q, gain):\n",
    "        a0, a1, a2, b0, b1, b2 = peaking(__fc, __Q, __gain, fs=fs)\n",
    "        fr.raw += digital_coeffs(fr.frequency, fs, a0, a1, a2, b0, b1, b2)\n",
    "    return fr\n",
    "\n",
    "def equalization(measurement, target):\n",
    "    if type(measurement) in [str, type(Path())]:\n",
    "        measurement = FrequencyResponseLimited.read_from_csv(measurement)\n",
    "    else:\n",
    "        measurement = measurement.copy()\n",
    "    if type(target)in [str, type(Path())]:\n",
    "        target = FrequencyResponseLimited.read_from_csv(target)\n",
    "    measurement.compensate(target)\n",
    "    return measurement\n",
    "\n",
    "def write_fir(fr, name_suffix=''):\n",
    "    ir = fr.minimum_phase_impulse_response(fs=48000, f_res=5, normalize=True)\n",
    "    DIR_PATH.joinpath('fir').mkdir(exist_ok=True)\n",
    "    sf.write(\n",
    "        DIR_PATH.joinpath('fir', f'{fr.name}{name_suffix}.wav'),\n",
    "        np.tile(ir, (2, 1)).T,\n",
    "        48000, 'PCM_16'\n",
    "    )\n",
    "    \n",
    "def write_graphic_eq(fr, name_suffix=''):\n",
    "    DIR_PATH.joinpath('graphiceq').mkdir(exist_ok=True)\n",
    "    s = fr.write_eqapo_graphic_eq(DIR_PATH.joinpath('graphiceq', f'{fr.name}{name_suffix}.txt'), normalize=True)\n",
    "    \n",
    "def write_img(fr, fig, name_suffix=''):\n",
    "    DIR_PATH.joinpath('img').mkdir(exist_ok=True)\n",
    "    fig.savefig(DIR_PATH.joinpath('img', f'{fr.name}{name_suffix}.png'))\n",
    "    \n",
    "def limited_slope_plots(fr, limited_forward, clipped_forward, limited_backward, clipped_backward,\n",
    "                        peak_inds, dip_inds, backward_start, protection_mask):\n",
    "    # Plot graphs\n",
    "    fig, ax = fr.plot_graph(\n",
    "        show=False, raw=False, smoothed=False, error=False, error_smoothed=False, target=False, equalization=True, equalized=False,\n",
    "        equalization_plot_kwargs={'color': 'C1', 'linewidth': 2, 'zorder': 999})\n",
    "    fig.set_size_inches(20, 12)\n",
    "    ax.plot(fr.frequency, -fr.error, label='Raw equalization', color='C2', linestyle='dashed')\n",
    "    ax.plot(fr.frequency, -fr.error_smoothed, label='Smoothed equalization', color='C2')\n",
    "    #ax.plot(fr.frequency, fr.equalization, label='Limited equalization', color='C1')\n",
    "    if len(clipped_forward):\n",
    "        ax.fill_between(fr.frequency, clipped_forward * -20, clipped_forward * 20, label='Limited left to right', color='blue', alpha=0.07)\n",
    "    if len(clipped_backward):\n",
    "        ax.fill_between(fr.frequency, clipped_backward * -20, clipped_backward * 20, label='Limited right to left', color='red', alpha=0.07)\n",
    "    if len(protection_mask):\n",
    "        ax.fill_between(fr.frequency, protection_mask * -20, protection_mask * 20, label='Limitation-safe zone', color='limegreen', alpha=0.14)\n",
    "    if len(peak_inds):\n",
    "        ax.scatter(fr.frequency[peak_inds], -fr.error_smoothed[peak_inds], color='red')\n",
    "    ax.scatter(fr.frequency[backward_start], -fr.error_smoothed[backward_start], 200, marker='<', label='Backward start', color='black')\n",
    "    if len(dip_inds):\n",
    "        ax.scatter(fr.frequency[dip_inds], -fr.error_smoothed[dip_inds], color='limegreen')\n",
    "    ax.legend()\n",
    "    ax.set_ylim([-20, 20])\n",
    "\n",
    "    return fig, ax\n",
    "\n",
    "def process(measurement, target, limit, limit_decay=0.0, iem=False, xlim=None, show=True):\n",
    "    fr = equalization(measurement, target)\n",
    "    if iem:\n",
    "        concha_interference = False\n",
    "        treble_f_lower = 7000\n",
    "        treble_f_upper = 8000\n",
    "    else:\n",
    "        concha_interference = True\n",
    "        treble_f_lower = 9000\n",
    "        treble_f_upper = 11500\n",
    "    fr.smoothen_fractional_octave(window_size=1/12, treble_window_size=2, treble_f_lower=treble_f_lower, treble_f_upper=treble_f_upper)        \n",
    "    limited, smoothed, limited_forward, clipped_forward, limited_backward, clipped_backward, peak_inds, dip_inds, backward_start, protection_mask = fr.equalize(\n",
    "        max_gain=666.0,\n",
    "        limit=limit, limit_decay=limit_decay,\n",
    "        concha_interference=concha_interference,\n",
    "        treble_f_lower=treble_f_lower,\n",
    "        treble_f_upper=treble_f_upper\n",
    "    )\n",
    "    fig, ax = limited_slope_plots(\n",
    "        fr, limited_forward, clipped_forward, limited_backward, clipped_backward,\n",
    "        peak_inds, dip_inds, backward_start, protection_mask)\n",
    "    if xlim is not None:\n",
    "        ax.set_xlim(xlim)\n",
    "    write_img(fr, fig, name_suffix=f' {limit}')\n",
    "    if show:\n",
    "        plt.show()\n",
    "    fr.equalization = limited\n",
    "    #write_graphic_eq(fr, name_suffix=f' {limit}')\n",
    "    #write_fir(fr, name_suffix=f' {limit}')\n",
    "    plt.close()"
   ]
  },
  {
   "cell_type": "markdown",
   "metadata": {},
   "source": [
    "## Limited Delta Algorith\n",
    "This algorithm avoids peaks by limiting the delta (derivative) of a function.\n",
    "\n",
    "1. Curve is traversed in both directions, gradients are limited and a minimum is taken\n",
    "2. 9 kHz notch is avoided with 25% max slope (18 dB -> 4.5 dB) between 8 kHz and 11.5 kHz\n",
    "3. Limited regions which don't overlap peaks are removed\n",
    "4. Dips which are lower in level than their adjacent dips are limitation free zones\n",
    "\n",
    "#### TODO\n",
    "- Fix trend by comparing super heavy smoothed EQ FRs?\n",
    "  - 9 kHz region must be excluded from the trends because it's missing from the targets"
   ]
  },
  {
   "cell_type": "markdown",
   "metadata": {},
   "source": [
    "## Problematic"
   ]
  },
  {
   "cell_type": "code",
   "execution_count": null,
   "metadata": {},
   "outputs": [],
   "source": [
    "process(ROOT_PATH.joinpath('measurements/rtings/data/inear/MEE Audio M6/MEE Audio M6.csv'), rtings_inear_target, 18, iem=True, xlim=[1000, 20000])"
   ]
  },
  {
   "cell_type": "code",
   "execution_count": null,
   "metadata": {},
   "outputs": [],
   "source": [
    "process(ROOT_PATH.joinpath('measurements/rtings/data/inear/Shure SE425/Shure SE425.csv'), rtings_inear_target, 18, iem=True, xlim=[1000, 20000])"
   ]
  },
  {
   "cell_type": "code",
   "execution_count": null,
   "metadata": {},
   "outputs": [],
   "source": [
    "process(ROOT_PATH.joinpath('measurements/rtings/data/inear/Sony WF-SP800N/Sony WF-SP800N.csv'), rtings_inear_target, 18, iem=True, xlim=[1000, 20000])"
   ]
  },
  {
   "cell_type": "markdown",
   "metadata": {},
   "source": [
    "## Interesting"
   ]
  },
  {
   "cell_type": "code",
   "execution_count": null,
   "metadata": {},
   "outputs": [],
   "source": [
    "# 3.5 kHz L2R and 7.5 kHz R2L rises are sharp and not limited because of the dip at 5 kHz\n",
    "process(ROOT_PATH.joinpath('measurements/rtings/data/onear/Bang & Olufsen Beoplay H9i/Bang & Olufsen Beoplay H9i.csv'), rtings_onear_target, 18, iem=False, xlim=[1000, 20000])"
   ]
  },
  {
   "cell_type": "code",
   "execution_count": null,
   "metadata": {},
   "outputs": [],
   "source": [
    "# Limitation-free zone allows very steep R2L rise from 7 kHz\n",
    "process(ROOT_PATH.joinpath('measurements/rtings/data/inear/Jabra Elite 65e/Jabra Elite 65e.csv'), rtings_inear_target, 18, iem=True, xlim=[1000, 20000])"
   ]
  },
  {
   "cell_type": "code",
   "execution_count": null,
   "metadata": {},
   "outputs": [],
   "source": [
    "# Massive dip in the frequency response betweeen 5 and 7 kHz\n",
    "# Attempts to equalize will produce sizzling while having veiled vocals at the same time\n",
    "process(ROOT_PATH.joinpath('measurements/crinacle/data/inear/Custom Art FIBAE 3/Custom Art FIBAE 3.csv'), inear_target, 18, iem=True, limit_decay=0.0, xlim=[1000, 20000])"
   ]
  },
  {
   "cell_type": "code",
   "execution_count": null,
   "metadata": {},
   "outputs": [],
   "source": [
    "# Beyerdynamic T1 2nd Generation has a prominent peak at 4800 Hz but is only limited from R2L\n",
    "process(\n",
    "    ROOT_PATH.joinpath('measurements/oratory1990/data/onear/Beyerdynamic T1 2nd Generation/Beyerdynamic T1 2nd Generation.csv'),\n",
    "    onear_target, 18, iem=False, limit_decay=0.0, xlim=[1000, 20000])"
   ]
  },
  {
   "cell_type": "code",
   "execution_count": null,
   "metadata": {},
   "outputs": [],
   "source": [
    "# 9 kHz dip is limited by left side but this would not happen when using minimum of the both side limitations and the right side target would be set right after 10 khz\n",
    "# Treating the protection zone targets separately for both sides would result in limiting the left side because the adjacent dip is -5.5 dB at 2600 Hz\n",
    "process(ROOT_PATH.joinpath('measurements/oratory1990/data/onear/Shure SRH1540/Shure SRH1540.csv'), onear_target, 18, limit_decay=0.0, xlim=[1000, 20000])"
   ]
  },
  {
   "cell_type": "markdown",
   "metadata": {},
   "source": [
    "## Solved"
   ]
  },
  {
   "cell_type": "code",
   "execution_count": null,
   "metadata": {},
   "outputs": [],
   "source": [
    "process(ROOT_PATH.joinpath('measurements/rtings/data/inear/FIIL T1X/FIIL T1X.csv'), rtings_inear_target, 18, iem=True, xlim=[1000, 20000])"
   ]
  },
  {
   "cell_type": "code",
   "execution_count": null,
   "metadata": {},
   "outputs": [],
   "source": [
    "process(ROOT_PATH.joinpath('measurements/rtings/data/inear/Jaybird Vista/Jaybird Vista.csv'), rtings_inear_target, 18, iem=True, xlim=[1000, 20000])"
   ]
  },
  {
   "cell_type": "code",
   "execution_count": null,
   "metadata": {},
   "outputs": [],
   "source": [
    "# Beyerdynamic DT 770 80 ohm behaves quite nicely when equalization peaks are limited\n",
    "process(\n",
    "    ROOT_PATH.joinpath('measurements/crinacle/data/onear/GRAS 43AG-7/Beyerdynamic DT 770 80 ohm/Beyerdynamic DT 770 80 ohm.csv'),\n",
    "    onear_target, 18, iem=False, limit_decay=0.0, xlim=[1000, 20000])"
   ]
  },
  {
   "cell_type": "code",
   "execution_count": null,
   "metadata": {},
   "outputs": [],
   "source": [
    "# Right side of 6 kHz dip is unnecessarily limited. Protection zone should extend to -4 dB at least.\n",
    "# FIXED by adding 20 kHz level as the last dip when the last peak comes after the last dip.\n",
    "process(ROOT_PATH.joinpath('measurements/rtings/data/onear/AKG N60 NC Wireless/AKG N60 NC Wireless.csv'), rtings_onear_target, 18, iem=False, xlim=[1000, 20000])"
   ]
  },
  {
   "cell_type": "code",
   "execution_count": null,
   "metadata": {},
   "outputs": [],
   "source": [
    "# 5200 Hz dip is limited by right side because adjacent left side notch is similar in level\n",
    "# Protection level should perhaps extend to 6600 Hz\n",
    "# FIXED by limitation-free zones\n",
    "process(ROOT_PATH.joinpath('measurements/oratory1990/data/onear/HIFIMAN HE35X/HIFIMAN HE35X.csv'), onear_target, 18, iem=False, limit_decay=0.0, xlim=[1000, 20000])"
   ]
  },
  {
   "cell_type": "code",
   "execution_count": null,
   "metadata": {},
   "outputs": [],
   "source": [
    "# Backward start is a problem here when starting at 20 kHz because of the significant high frequency roll-off\n",
    "# FIXED by backward start search algorithm\n",
    "process(ROOT_PATH.joinpath('measurements/oratory1990/data/onear/AKG N60 NC Wireless/AKG N60 NC Wireless.csv'), onear_target, 18, iem=False, limit_decay=0.0, xlim=[1000, 20000])"
   ]
  },
  {
   "cell_type": "code",
   "execution_count": null,
   "metadata": {},
   "outputs": [],
   "source": [
    "# Adam SP-5 has an elevation between 4 and 6 kHz but is limited only from R2L.\n",
    "# The right side slope is shared by the following notch at 6 kHz.\n",
    "# 6 kHz notch could be left alone between 5.2 kHz and 6.5 kHz\n",
    "# FIXED by limitation-safe zones\n",
    "process(ROOT_PATH.joinpath('measurements/oratory1990/data/onear/Adam SP-5/Adam SP-5.csv'), onear_target, 18, iem=False, limit_decay=0.0, xlim=[1000, 20000])"
   ]
  },
  {
   "cell_type": "code",
   "execution_count": null,
   "metadata": {},
   "outputs": [],
   "source": [
    "# 4200 Hz peak is limited from one side only\n",
    "# Right side of 6.5 kHz notch is limited because of the miniscule 8.1 kHz peak.\n",
    "# Limitation-free zone prevents limitation on both sides BUT should it?\n",
    "# FIXED by limitation-safe zones\n",
    "process(ROOT_PATH.joinpath('measurements/oratory1990/data/onear/AKG K240 Sextett/AKG K240 Sextett.csv'), onear_target, 18, iem=False, limit_decay=0.0, xlim=[1000, 20000])"
   ]
  },
  {
   "cell_type": "markdown",
   "metadata": {},
   "source": [
    "## Mass Images"
   ]
  },
  {
   "cell_type": "code",
   "execution_count": null,
   "metadata": {},
   "outputs": [],
   "source": [
    "img_path = ROOT_PATH.joinpath('research', 'limited_gradient_smoothing', 'img')\n",
    "img_path.mkdir(exist_ok=True, parents=True)"
   ]
  },
  {
   "cell_type": "code",
   "execution_count": null,
   "metadata": {},
   "outputs": [],
   "source": [
    "for fp in ROOT_PATH.glob('measurements/oratory1990/data/onear/**/*.csv'):\n",
    "    process(fp, onear_target, 18, iem=False, xlim=[1000, 20000], show=False)\n",
    "for fp in ROOT_PATH.glob('measurements/oratory1990/data/inear/**/*.csv'):\n",
    "    process(fp, inear_target, 18, iem=True, xlim=[1000, 20000], show=False)"
   ]
  },
  {
   "cell_type": "code",
   "execution_count": null,
   "metadata": {},
   "outputs": [],
   "source": [
    "for fp in ROOT_PATH.glob('measurements/rtings/data/onear/**/*.csv'):\n",
    "    process(fp, rtings_onear_target, 18, iem=False, xlim=[1000, 20000], show=False)\n",
    "for fp in ROOT_PATH.glob('measurements/rtings/data/inear/**/*.csv'):\n",
    "    process(fp, rtings_inear_target, 18, iem=True, xlim=[1000, 20000], show=False)"
   ]
  },
  {
   "cell_type": "markdown",
   "metadata": {},
   "source": [
    "## Artificial Curve Shapes"
   ]
  },
  {
   "cell_type": "code",
   "execution_count": null,
   "metadata": {},
   "outputs": [],
   "source": [
    "zeros = FrequencyResponseLimited(name='zeros')\n",
    "zeros.raw = np.zeros(zeros.frequency.shape)\n",
    "\n",
    "# Flat\n",
    "flat = FrequencyResponseLimited(name='flat')\n",
    "flat.raw = np.zeros(flat.frequency.shape)\n",
    "process(flat, zeros, 18, iem=False)\n",
    "\n",
    "# Tilted negative\n",
    "pos = FrequencyResponseLimited(name='positive', frequency=[20, 600, 632, 20000], raw=[-6, -5, 5, 6])\n",
    "pos.interpolate()\n",
    "process(pos, zeros, 18, iem=False)\n",
    "\n",
    "# Tilted positive\n",
    "neg = FrequencyResponseLimited(name='positive', frequency=[20, 600, 632,\n",
    "                                                           20000], raw=[6, 5, -5, -6])\n",
    "neg.interpolate()\n",
    "process(neg, zeros, 18, iem=False)\n",
    "\n",
    "# Peaks\n",
    "peak2 = FrequencyResponseLimited(name='peak2', frequency=[20, 600, 632, 20000], raw=[5, -5, 5, 6])\n",
    "peak2.interpolate()\n",
    "process(peak2, zeros, 18, iem=False)\n",
    "\n",
    "peak3 = FrequencyResponseLimited(name='peak2', frequency=[20, 600, 632, 20000], raw=[6, 5, -5, 5])\n",
    "peak3.interpolate()\n",
    "process(peak3, zeros, 18, iem=False)\n",
    "\n",
    "dip2 = FrequencyResponseLimited(name='dip', frequency=[20, 600, 632, 20000], raw=[-6, -5, 5, -5])\n",
    "dip2.interpolate()\n",
    "process(dip2, zeros, 18, iem=False)\n",
    "\n",
    "dip3 = FrequencyResponseLimited(name='dip', frequency=[20, 600, 632, 20000], raw=[-5, 5, -5, -6])\n",
    "dip3.interpolate()\n",
    "process(dip3, zeros, 18, iem=False)"
   ]
  }
 ],
 "metadata": {
  "kernelspec": {
   "display_name": "AutoEq (Python 3.8)",
   "language": "python",
   "name": "autoeqpy38"
  },
  "language_info": {
   "codemirror_mode": {
    "name": "ipython",
    "version": 3
   },
   "file_extension": ".py",
   "mimetype": "text/x-python",
   "name": "python",
   "nbconvert_exporter": "python",
   "pygments_lexer": "ipython3",
   "version": "3.8.7"
  }
 },
 "nbformat": 4,
 "nbformat_minor": 4
}
